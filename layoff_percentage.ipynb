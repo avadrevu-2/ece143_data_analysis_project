{
 "cells": [
  {
   "cell_type": "code",
   "execution_count": 1,
   "metadata": {},
   "outputs": [],
   "source": [
    "import pandas as pd\n",
    "import numpy as np\n",
    "# import plotly.express as px\n",
    "# import plotly\n",
    "\n",
    "# import matplotlib.animation as ani\n",
    "# import matplotlib.pyplot as plt\n",
    "from data_processing import DataProcessing"
   ]
  },
  {
   "attachments": {},
   "cell_type": "markdown",
   "metadata": {},
   "source": []
  },
  {
   "cell_type": "code",
   "execution_count": 2,
   "metadata": {},
   "outputs": [],
   "source": [
    "\n",
    "def add_month_yr(x:pd.DataFrame, date_columns: set):\n",
    "    '''\n",
    "    Adds a month_yr column to a dataframe that has a column\n",
    "    containing date strings.\n",
    "    '''\n",
    "    for column in date_columns:\n",
    "        if column in x:\n",
    "            # print(pd.to_datetime(x[column]))\n",
    "            # print(x[column])\n",
    "            # x['datetime']=pd.to_datetime(x[column])\n",
    "            x['month-yr']=pd.to_datetime(x[column]).dt.strftime('%b-%Y')\n",
    "            return x\n",
    "    raise TypeError\n",
    "\n",
    "def fix_categorical(x):\n",
    "    '''Changes 'month-yr' column to CategoricalDtype'''\n",
    "    assert isinstance(x,pd.DataFrame)\n",
    "    dates=pd.DataFrame(x['month-yr'])\n",
    "    dates['Timestamp']=pd.to_datetime(x['month-yr'])\n",
    "    dates=dates.sort_values(by=['Timestamp'])\n",
    "    sorted=[]\n",
    "    [sorted.append(x) for x in dates['month-yr'] if x not in sorted]\n",
    "    t=pd.CategoricalDtype(categories=sorted,ordered=True)\n",
    "    x['month-yr'] = pd.Series(x['month-yr'],dtype=t)\n",
    "    return x"
   ]
  },
  {
   "cell_type": "code",
   "execution_count": 3,
   "metadata": {},
   "outputs": [],
   "source": [
    "data_dir = 'data'\n",
    "processor = DataProcessing(data_dir)\n",
    "data_dict=processor.process()\n"
   ]
  },
  {
   "cell_type": "code",
   "execution_count": 92,
   "metadata": {},
   "outputs": [
    {
     "name": "stderr",
     "output_type": "stream",
     "text": [
      "/tmp/ipykernel_14309/84972462.py:24: SettingWithCopyWarning: \n",
      "A value is trying to be set on a copy of a slice from a DataFrame.\n",
      "Try using .loc[row_indexer,col_indexer] = value instead\n",
      "\n",
      "See the caveats in the documentation: https://pandas.pydata.org/pandas-docs/stable/user_guide/indexing.html#returning-a-view-versus-a-copy\n",
      "  x['month-yr'] = pd.Series(x['month-yr'],dtype=t)\n",
      "/tmp/ipykernel_14309/3974042459.py:8: FutureWarning: The default value of numeric_only in DataFrameGroupBy.sum is deprecated. In a future version, numeric_only will default to False. Either specify numeric_only or select only columns which should be valid for the function.\n",
      "  .groupby(['industry','month-yr',]).sum()\n"
     ]
    },
    {
     "data": {
      "text/html": [
       "<div>\n",
       "<style scoped>\n",
       "    .dataframe tbody tr th:only-of-type {\n",
       "        vertical-align: middle;\n",
       "    }\n",
       "\n",
       "    .dataframe tbody tr th {\n",
       "        vertical-align: top;\n",
       "    }\n",
       "\n",
       "    .dataframe thead th {\n",
       "        text-align: right;\n",
       "    }\n",
       "</style>\n",
       "<table border=\"1\" class=\"dataframe\">\n",
       "  <thead>\n",
       "    <tr style=\"text-align: right;\">\n",
       "      <th></th>\n",
       "      <th>industry</th>\n",
       "      <th>month-yr</th>\n",
       "      <th>percentage_laid_off</th>\n",
       "    </tr>\n",
       "  </thead>\n",
       "  <tbody>\n",
       "    <tr>\n",
       "      <th>0</th>\n",
       "      <td>Aerospace</td>\n",
       "      <td>Mar-2020</td>\n",
       "      <td>0.00</td>\n",
       "    </tr>\n",
       "    <tr>\n",
       "      <th>1</th>\n",
       "      <td>Aerospace</td>\n",
       "      <td>Apr-2020</td>\n",
       "      <td>0.25</td>\n",
       "    </tr>\n",
       "    <tr>\n",
       "      <th>2</th>\n",
       "      <td>Aerospace</td>\n",
       "      <td>May-2020</td>\n",
       "      <td>0.00</td>\n",
       "    </tr>\n",
       "    <tr>\n",
       "      <th>3</th>\n",
       "      <td>Aerospace</td>\n",
       "      <td>Jun-2020</td>\n",
       "      <td>0.00</td>\n",
       "    </tr>\n",
       "    <tr>\n",
       "      <th>4</th>\n",
       "      <td>Aerospace</td>\n",
       "      <td>Jul-2020</td>\n",
       "      <td>0.00</td>\n",
       "    </tr>\n",
       "    <tr>\n",
       "      <th>...</th>\n",
       "      <td>...</td>\n",
       "      <td>...</td>\n",
       "      <td>...</td>\n",
       "    </tr>\n",
       "    <tr>\n",
       "      <th>1039</th>\n",
       "      <td>Travel</td>\n",
       "      <td>Oct-2022</td>\n",
       "      <td>0.00</td>\n",
       "    </tr>\n",
       "    <tr>\n",
       "      <th>1040</th>\n",
       "      <td>Travel</td>\n",
       "      <td>Nov-2022</td>\n",
       "      <td>0.22</td>\n",
       "    </tr>\n",
       "    <tr>\n",
       "      <th>1041</th>\n",
       "      <td>Travel</td>\n",
       "      <td>Dec-2022</td>\n",
       "      <td>0.00</td>\n",
       "    </tr>\n",
       "    <tr>\n",
       "      <th>1042</th>\n",
       "      <td>Travel</td>\n",
       "      <td>Jan-2023</td>\n",
       "      <td>0.29</td>\n",
       "    </tr>\n",
       "    <tr>\n",
       "      <th>1043</th>\n",
       "      <td>Travel</td>\n",
       "      <td>Feb-2023</td>\n",
       "      <td>0.00</td>\n",
       "    </tr>\n",
       "  </tbody>\n",
       "</table>\n",
       "<p>1044 rows × 3 columns</p>\n",
       "</div>"
      ],
      "text/plain": [
       "       industry  month-yr  percentage_laid_off\n",
       "0     Aerospace  Mar-2020                 0.00\n",
       "1     Aerospace  Apr-2020                 0.25\n",
       "2     Aerospace  May-2020                 0.00\n",
       "3     Aerospace  Jun-2020                 0.00\n",
       "4     Aerospace  Jul-2020                 0.00\n",
       "...         ...       ...                  ...\n",
       "1039     Travel  Oct-2022                 0.00\n",
       "1040     Travel  Nov-2022                 0.22\n",
       "1041     Travel  Dec-2022                 0.00\n",
       "1042     Travel  Jan-2023                 0.29\n",
       "1043     Travel  Feb-2023                 0.00\n",
       "\n",
       "[1044 rows x 3 columns]"
      ]
     },
     "execution_count": 92,
     "metadata": {},
     "output_type": "execute_result"
    }
   ],
   "source": [
    "\n",
    "layoffs_df=add_month_yr(data_dict['data/layoffs'],{'date'})\n",
    "layoffs_tot=fix_categorical(layoffs_df[layoffs_df['month-yr'].notna()])\n",
    "layoffs_tot=layoffs_tot[layoffs_tot.country=='United States']\n",
    "# pd.DataFrame(layoffs_tot.drop(columns='country')\n",
    "#             .groupby(['month-yr','industry'])\n",
    "#             .sum().sort_values(by=['month-yr','percentage_laid_off'],ascending=[True,False]).get('percentage_laid_off')).reset_index().set_\n",
    "layoffs_industry=(layoffs_tot.drop(['country','total_laid_off','funds_raised'],axis=1)\n",
    "            .groupby(['industry','month-yr',]).sum()\n",
    "            .reset_index())\n",
    "[i for i in layoffs_industry.index]\n",
    "layoffs_industry"
   ]
  },
  {
   "cell_type": "code",
   "execution_count": 135,
   "metadata": {},
   "outputs": [
    {
     "name": "stdout",
     "output_type": "stream",
     "text": [
      "{'Energy', 'Real Estate', 'Infrastructure', 'Security', 'Healthcare', 'Hardware', 'Recruiting', 'Retail', 'Logistics', 'Education', 'Consumer', 'Transportation', 'Construction', 'Food', 'Support', 'Fitness', 'Marketing', 'Aerospace', 'Media', 'Sales', 'Other', 'Product', 'Crypto', 'Finance', 'Manufacturing', 'Legal', 'Data', 'HR', 'Travel'}\n"
     ]
    },
    {
     "data": {
      "text/plain": [
       "<AxesSubplot: xlabel='month-yr'>"
      ]
     },
     "execution_count": 135,
     "metadata": {},
     "output_type": "execute_result"
    },
    {
     "data": {
      "image/png": "[encoded data removed]",
      "text/plain": [
       "<Figure size 640x480 with 1 Axes>"
      ]
     },
     "metadata": {},
     "output_type": "display_data"
    }
   ],
   "source": [
    "dfl=layoffs_industry.set_index('month-yr')\n",
    "new_df=pd.DataFrame()\n",
    "industries={i for i in dfl['industry']}\n",
    "print(industries)\n",
    "for i in industries:\n",
    "    new_df.insert(len(new_df.columns), i, dfl[dfl['industry']==i]['percentage_laid_off'])\n",
    "    # print(dfl[dfl['industry']==i]['percentage_laid_off'])\n",
    "# new_df['month-yr']=(pd.Series([j for j in {i for i in layoffs_industry['month-yr']}]))\n",
    "\n",
    "# for i in layoffs_industry.index:\n",
    "#     # print(layoffs_industry.loc[i,:])\n",
    "#     # print(layoffs_industry.iloc[i,0])\n",
    "#     # print(layoffs_industry.iloc[i,1])\n",
    "#     # print(layoffs_industry.iloc[i,2])\n",
    "    # new_df[layoffs_industry.iloc[i,1],layoffs_industry.iloc[i,0]]=layoffs_industry.iloc[i,2]\n",
    "new_df.plot(y= ['Energy','Healthcare','Aerospace','Crypto','Consumer'],kind='bar')\n"
   ]
  }
 ],
 "metadata": {
  "kernelspec": {
   "display_name": "Python 3",
   "language": "python",
   "name": "python3"
  },
  "language_info": {
   "codemirror_mode": {
    "name": "ipython",
    "version": 3
   },
   "file_extension": ".py",
   "mimetype": "text/x-python",
   "name": "python",
   "nbconvert_exporter": "python",
   "pygments_lexer": "ipython3",
   "version": "3.10.10"
  },
  "orig_nbformat": 4
 },
 "nbformat": 4,
 "nbformat_minor": 2
}
